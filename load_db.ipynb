{
 "cells": [
  {
   "cell_type": "code",
   "execution_count": 6,
   "metadata": {},
   "outputs": [
    {
     "name": "stdout",
     "output_type": "stream",
     "text": [
      "database connected\n",
      "(0, 'First Shark from the Late Devonian (Frasnian) Gogo Formation, Western Australia Sheds New Light on the Development of Tessellated Calcified Cartilage', 'Long John A., Burrow Carole J., Ginter Michal, Maisey John G., Trinajstic Kate M., Coates Michael I., Young Gavin C., Senden Tim J.', '\\n\\nBackground\\nLiving gnathostomes (jawed vertebrates) comprise two divisions, Chondrichthyes (cartilaginous fishes, including euchondrichthyans with prismatic calcified cartilage, and extinct stem chondrichthyans) and Osteichthyes (bony fishes including tetrapods). Most of the early chondrichthyan (‘shark’) record is based upon isolated teeth, spines, and scales, with the oldest articulated sharks that exhibit major diagnostic characters of the group—prismatic calcified cartilage and pelvic claspers in males—being from the latest Devonian, c. 360 Mya. This paucity of information about early chondrichthyan anatomy is mainly due to their lack of endoskeletal bone and consequent low preservation potential.\\n\\n\\nMethodology/Principal Findings\\nHere we present new data from the first well-preserved chondrichthyan fossil from the early Late Devonian (ca. 380–384 Mya) Gogo Formation Lägerstatte of Western Australia. The specimen is the first Devonian shark body fossil to be acid-prepared, revealing the endoskeletal elements as three-dimensional undistorted units: Meckel’s cartilages, nasal, ceratohyal, basibranchial and possible epibranchial cartilages, plus left and right scapulocoracoids, as well as teeth and scales. This unique specimen is assigned to Gogoselachus lynnbeazleyae n. gen. n. sp.\\n\\n\\nConclusions/Significance\\nThe Meckel’s cartilages show a jaw articulation surface dominated by an expansive cotylus, and a small mandibular knob, an unusual condition for chondrichthyans. The scapulocoracoid of the new specimen shows evidence of two pectoral fin basal articulation facets, differing from the standard condition for early gnathostomes which have either one or three articulations. The tooth structure is intermediate between the ‘primitive’ ctenacanthiform and symmoriiform condition, and more derived forms with a euselachian-type base. Of special interest is the highly distinctive type of calcified cartilage forming the endoskeleton, comprising multiple layers of nonprismatic subpolygonal tesserae separated by a cellular matrix, interpreted as a transitional step toward the tessellated prismatic calcified cartilage that is recognized as the main diagnostic character of the chondrichthyans.\\n\\n', '5 2015', '10.1371/journal.pone.0126066')\n",
      "\n",
      "(1, 'Whole Blood Gene Expression Profiles of Patients with a Past Aneurysmal Subarachnoid Hemorrhage', 'van ’t Hof Femke N. G., Ruigrok Ynte M., Medic Jelena, Sanjabi Bahram, van der Vlies Pieter, Rinkel Gabriel J. E., Veldink Jan H.', '\\n\\nBackground\\nThe pathogenesis of development and rupture of intracranial aneurysms (IA) is largely unknown. Also, screening for IA to prevent aneurysmal subarachnoid hemorrhage (aSAH) is inefficient, as disease markers are lacking. We investigated gene expression profiles in blood of previous aSAH patients, who are still at risk for future IA, aiming to gain insight into the pathogenesis of IA and aSAH, and to make a first step towards improvement of aSAH risk prediction.\\n\\n\\nMethods and Results\\nWe collected peripheral blood of 119 patients with aSAH at least two years prior, and 118 controls. We determined gene expression profiles using Illumina HumanHT-12v4 BeadChips. After quality control, we divided the dataset in a discovery (2/3) and replication set (1/3), identified differentially expressed genes, and applied (co-)differential co-expression to identify disease-related gene networks. No genes with a significant (false-discovery rate <5%) differential expression were observed. We detected one gene network with significant differential co-expression, but did not find biologically meaningful gene networks related to a history of aSAH. Next, we applied prediction analysis of microarrays to find a gene set that optimally predicts absence or presence of a history of aSAH. We found no gene sets with a correct disease state prediction higher than 40%.\\n\\n\\nConclusions\\nNo gene expression differences were present in blood of previous aSAH patients compared to controls, besides one differentially co-expressed gene network without a clear relevant biological function. Our findings suggest that gene expression profiles, as detected in blood of previous aSAH patients, do not reveal the pathogenesis of IA and aSAH, and cannot be used for aSAH risk prediction.\\n\\n', '10 2015', '10.1371/journal.pone.0139352')\n",
      "\n",
      "(2, 'Genome-Wide Association Study of Lp-PLA2 Activity and Mass in the Framingham Heart Study', 'Suchindran Sunil, Rivedal David, Guyton John R., Milledge Tom, Gao Xiaoyi, Benjamin Ashlee, Rowell Jennifer, Ginsburg Geoffrey S., McCarthy Jeanette J.', '\\nLipoprotein-associated phospholipase A2 (Lp-PLA2) is an emerging risk factor and therapeutic target for cardiovascular disease. The activity and mass of this enzyme are heritable traits, but major genetic determinants have not been explored in a systematic, genome-wide fashion. We carried out a genome-wide association study of Lp-PLA2 activity and mass in 6,668 Caucasian subjects from the population-based Framingham Heart Study. Clinical data and genotypes from the Affymetrix 550K SNP array were obtained from the open-access Framingham SHARe project. Each polymorphism that passed quality control was tested for associations with Lp-PLA2 activity and mass using linear mixed models implemented in the R statistical package, accounting for familial correlations, and controlling for age, sex, smoking, lipid-lowering-medication use, and cohort. For Lp-PLA2 activity, polymorphisms at four independent loci reached genome-wide significance, including the APOE/APOC1 region on chromosome 19 (p\\u200a=\\u200a6×10−24); CELSR2/PSRC1 on chromosome 1 (p\\u200a=\\u200a3×10−15); SCARB1 on chromosome 12 (p\\u200a=\\u200a1×10−8) and ZNF259/BUD13 in the APOA5/APOA1 gene region on chromosome 11 (p\\u200a=\\u200a4×10−8). All of these remained significant after accounting for associations with LDL cholesterol, HDL cholesterol, or triglycerides. For Lp-PLA2 mass, 12 SNPs achieved genome-wide significance, all clustering in a region on chromosome 6p12.3 near the PLA2G7 gene. Our analyses demonstrate that genetic polymorphisms may contribute to inter-individual variation in Lp-PLA2 activity and mass.\\n Author Summary\\nBlood levels of lipoprotein-associated phospholipase A2 (Lp-PLA2) show a strong association with atherosclerosis in humans. This enzyme is made by certain cells of the immune system, associates with lipoproteins (HDL and LDL), and is thought to be involved in inflammation. Studies have shown that Lp-PLA2 is a good predictor of cardiovascular disease, independent of HDL and LDL cholesterol levels. This has led to the development of drugs aimed at inhibiting Lp-PLA2 as a way to treat or prevent cardiovascular disease. The activity and mass of Lp-PLA2 are heritable traits, but major genetic determinants have not been explored in a systematic fashion. We examined genetic variants across the human genome to identify genes influencing Lp-PLA2 activity and mass. We studied 6,668 Caucasian subjects from the population-based Framingham Heart Study. Clinical data and genetic data on 550,000 genetic variants were available for association analysis. There was no overlap in the most significantly associated SNPs for activity and mass. We identified four distinct gene regions showing highly significant associations with Lp-PLA2 activity, all of which are known to include genes involved in cholesterol metabolism. The only locus associated with Lp-PLA2 mass was a region harboring PLA2G7, the gene that encodes lipoprotein-associated phospholipase A2.\\n', '4 2010', '10.1371/journal.pgen.1000928')\n",
      "\n",
      "(3, 'Thy1+ Nk Cells from Vaccinia Virus-Primed Mice Confer Protection against Vaccinia Virus Challenge in the Absence of Adaptive Lymphocytes', 'Gillard Geoffrey O., Bivas-Benita Maytal, Hovav Avi-Hai, Grandpre Lauren E., Panas Michael W., Seaman Michael S., Haynes Barton F., Letvin Norman L.', '\\nWhile immunological memory has long been considered the province of T- and B- lymphocytes, it has recently been reported that innate cell populations are capable of mediating memory responses. We now show that an innate memory immune response is generated in mice following infection with vaccinia virus, a poxvirus for which no cognate germline-encoded receptor has been identified. This immune response results in viral clearance in the absence of classical adaptive T and B lymphocyte populations, and is mediated by a Thy1+ subset of natural killer (NK) cells. We demonstrate that immune protection against infection from a lethal dose of virus can be adoptively transferred with memory hepatic Thy1+ NK cells that were primed with live virus. Our results also indicate that, like classical immunological memory, stronger innate memory responses form in response to priming with live virus than a highly attenuated vector. These results demonstrate that a defined innate memory cell population alone can provide host protection against a lethal systemic infection through viral clearance.\\n \\nAuthor Summary\\nImmunological memory is a hallmark of adaptive immunity and provides the basis for our ability to become ‘immune’ to pathogens to which we have previously been exposed, and provides the basis for vaccination. For decades, the paradigm held that only the classical adaptive lymphocytes were capable of forming and maintaining protective immunological memory. Recently, several papers have shown the capacity of an innate cell population, a subset of natural killer (NK) cells, to exhibit certain aspects of immunological memory. Here we show that innate memory forms in response to infection with vaccinia virus and resides in a discrete subset of NK cells. We further demonstrate that this innate memory provides significant host protection against a subsequent systemic infection with a lethal dose of vaccinia virus, in some cases resulting in the complete clearance of detectable virus. We also demonstrate that priming with live, replicating virus stimulates innate memory more robustly than a highly attenuated vector. These findings shed new light on this emergent area of immunology, and hold significant implications for harnessing innate memory as part of creating novel vaccination strategies.\\n', '8 2011', '10.1371/journal.ppat.1002141')\n",
      "\n",
      "(4, 'Evolution of dynamic, biochemical, and morphological parameters in hypothermic machine perfusion of human livers: A proof-of-concept study', 'Abudhaise H., Davidson B. R., DeMuylder P., Luong T. V., Fuller B.', '\\n\\nIntroduction\\nHypothermic machine perfusion (HMP) is increasingly investigated as a means to assess liver quality, but data on viability markers is inconsistent and the effects of different perfusion routes and oxygenation on perfusion biomarkers are unclear.\\n\\n\\nMethods\\nThis is a single-centre, randomised, multi-arm, parallel study using discarded human livers for evaluation of HMP using arterial, oxygen-supplemented venous and non-oxygen-supplemented venous perfusion. The study included 2 stages: in the first stage, 25 livers were randomised into static cold storage (n = 7), hepatic artery HMP (n = 10), and non-oxygen-supplemented portal vein HMP (n = 8). In the second stage, 20 livers were randomised into oxygen-supplemented and non-oxygen-supplemented portal vein HMP (n = 11 and 9, respectively). Changes in dynamic, biochemical, and morphologic parameters during 4-hour preservation were compared between perfusion groups, and between potentially transplantable and non-transplantable livers.\\n\\n\\nResults\\nDuring arterial perfusion, resistance was higher and flow was lower than venous perfusion (p = 0.001 and 0.01, respectively); this was associated with higher perfusate markers during arterial perfusion (p>0.05). Supplementary oxygen did not cause a significant alteration in the studied parameters. Morphology was similar between static and dynamic preservation groups. Perfusate markers were 2 fold higher in non-transplantable livers (p>0.05).\\n\\n\\nConclusions\\nArterial only perfusion might not be adequate for graft perfusion. Hepatocellular injury markers are accessible and easy to perform and could offer insight into graft quality, but large randomised trials are needed to identify reliable quality assessment biomarkers.\\n\\n', '9 2018', '10.1371/journal.pone.0203803')\n",
      "\n"
     ]
    }
   ],
   "source": [
    "import sqlite3\n",
    "\n",
    "target_db_path = '/home/brch/Data/allofplos_sql/'\n",
    "target_db_name = 'allofplos_proto_version1' # sql database for parsed abstracts etc\n",
    "db_path = target_db_path + target_db_name + '.db'\n",
    "\n",
    "# connect to the database\n",
    "db = sqlite3.connect(db_path)\n",
    "print('database connected')\n",
    "\n",
    "# cursor method\n",
    "cursor = db.cursor()\n",
    "cursor.execute(\"SELECT * FROM {}\".format(target_db_name))\n"
   ]
  },
  {
   "cell_type": "code",
   "execution_count": null,
   "metadata": {},
   "outputs": [],
   "source": [
    "# example of how you can iterate over the rows \n",
    "#   alternatively, if the table is small enough or you have tons of RAM to work with,\n",
    "            #    you can load it directly into a pandas dataframe\n",
    "for row in cursor:\n",
    "    if row < 100:\n",
    "        print(row)\n",
    "        print('')\n",
    "    else:\n",
    "        break"
   ]
  }
 ],
 "metadata": {
  "kernelspec": {
   "display_name": "Python 3",
   "language": "python",
   "name": "python3"
  },
  "language_info": {
   "codemirror_mode": {
    "name": "ipython",
    "version": 3
   },
   "file_extension": ".py",
   "mimetype": "text/x-python",
   "name": "python",
   "nbconvert_exporter": "python",
   "pygments_lexer": "ipython3",
   "version": "3.7.1"
  }
 },
 "nbformat": 4,
 "nbformat_minor": 2
}
