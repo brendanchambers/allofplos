{
 "cells": [
  {
   "cell_type": "code",
   "execution_count": 2,
   "metadata": {},
   "outputs": [
    {
     "name": "stdout",
     "output_type": "stream",
     "text": [
      "database connected\n"
     ]
    }
   ],
   "source": [
    "import sqlite3 # \n",
    "\n",
    "target_db_path = '<set the path to directory containing .db file>'\n",
    "target_db_name = 'allofplos_proto_version' # sql database for parsed abstracts etc\n",
    "db_path = target_db_path + target_db_name + '.db'\n",
    "\n",
    "# connect to the database\n",
    "db = sqlite3.connect(db_path)\n",
    "print('database connected')\n",
    "\n",
    "# cursor method\n",
    "cursor = db.cursor()\n",
    "\n"
   ]
  },
  {
   "cell_type": "code",
   "execution_count": 9,
   "metadata": {},
   "outputs": [],
   "source": [
    "# example of how you can iterate over the rows \n",
    "#   alternatively, if the table is small enough or you have lots of RAM to work with,\n",
    "            #    you can load it directly into a pandas dataframe\n",
    "\n",
    "cursor.execute(\"SELECT * FROM {}\".format(target_db_name))\n",
    "\n",
    "year_list = []\n",
    "for row in cursor:\n",
    "    \n",
    "    primary_key = row[0]\n",
    "    title = row[1]\n",
    "    authors = row[2] # just a string of names\n",
    "    abstract = row[3]\n",
    "    year = row[4]\n",
    "    doi = row[5]\n",
    "\n",
    "    year_list.append(int(year))\n",
    "\n",
    "    # for example here you could keep track of whether some list of keywords occurs in the abstract\n",
    "    #  and generate a subset of the data\n",
    "    \n",
    "    \n",
    "            "
   ]
  },
  {
   "cell_type": "code",
   "execution_count": 18,
   "metadata": {},
   "outputs": [
    {
     "name": "stdout",
     "output_type": "stream",
     "text": [
      "data includes pubications from 2003 to 2019\n"
     ]
    },
    {
     "data": {
      "text/plain": [
       "Text(0, 0.5, 'count')"
      ]
     },
     "execution_count": 18,
     "metadata": {},
     "output_type": "execute_result"
    },
    {
     "data": {
      "image/png": "[encoded data removed]",
      "text/plain": [
       "<Figure size 576x288 with 1 Axes>"
      ]
     },
     "metadata": {
      "needs_background": "light"
     },
     "output_type": "display_data"
    }
   ],
   "source": [
    "import matplotlib.pyplot as plt\n",
    "import numpy as np\n",
    "\n",
    "min_year = np.min(year_list)\n",
    "max_year = np.max(year_list)\n",
    "print(\"data includes pubications from {} to {}\".format(min_year, max_year))\n",
    "\n",
    "plt.figure(figsize=(8,4))\n",
    "plt.hist(year_list,bins=(max_year - min_year))\n",
    "plt.title('representation of publications by year')\n",
    "plt.xlabel('year')\n",
    "plt.ylabel('count')"
   ]
  },
  {
   "cell_type": "code",
   "execution_count": null,
   "metadata": {},
   "outputs": [],
   "source": []
  },
  {
   "cell_type": "code",
   "execution_count": null,
   "metadata": {},
   "outputs": [],
   "source": []
  }
 ],
 "metadata": {
  "kernelspec": {
   "display_name": "Python 3",
   "language": "python",
   "name": "python3"
  },
  "language_info": {
   "codemirror_mode": {
    "name": "ipython",
    "version": 3
   },
   "file_extension": ".py",
   "mimetype": "text/x-python",
   "name": "python",
   "nbconvert_exporter": "python",
   "pygments_lexer": "ipython3",
   "version": "3.7.1"
  }
 },
 "nbformat": 4,
 "nbformat_minor": 2
}
